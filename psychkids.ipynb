{
 "cells": [
  {
   "cell_type": "code",
   "execution_count": 1,
   "metadata": {},
   "outputs": [],
   "source": [
    "import requests\n",
    "import time\n",
    "import pandas as pd\n",
    "import json"
   ]
  },
  {
   "cell_type": "markdown",
   "metadata": {},
   "source": [
    "**Part I. Data Collection**\n",
    "\n"
   ]
  },
  {
   "cell_type": "markdown",
   "metadata": {},
   "source": [
    "1.1 Collection of New York Times articles with the word \"anxiety\" or \"depression\" on the headline"
   ]
  },
  {
   "cell_type": "code",
   "execution_count": 2,
   "metadata": {},
   "outputs": [],
   "source": [
    "def collect_articles_NYT(word, output_file_name): \n",
    "    '''\n",
    "    Interact with The New York Times API to collect articles' data. Restrict\n",
    "    the search to those articles containing the given word in the headline.\n",
    "    Lastly, generate a json file to store the data so it can be easily \n",
    "    retrieved later without needing to make requests every time. \n",
    "\n",
    "    Inputs: \n",
    "        word (str): word of interest for the query\n",
    "        output_file_name (str): desired name for the json file to be created\n",
    "\n",
    "    Outputs:\n",
    "        json file\n",
    "    '''\n",
    "\n",
    "    #Basic details needed to interact with The New York Times API\n",
    "    api_key = \"deleted after collection of data\"\n",
    "    base_url = \"https://api.nytimes.com/svc/search/v2/articlesearch.json\"\n",
    "\n",
    "    articles = {}\n",
    "\n",
    "    for year in range(2004,2025):\n",
    "\n",
    "        year_data = []\n",
    "\n",
    "        #Since the API only retrieves 10 results per query, we have to loop \n",
    "        #through different pages. The range 0-100 is set up since it is the\n",
    "        #maximum number of pages that can be requested.\n",
    "        for page in range(0,100):\n",
    "\n",
    "            begindate = \"{}0101\".format(year)\n",
    "            enddate = \"{}1231\".format(year)\n",
    "            nyt_params = {\"q\": word, \"fq\": f'headline:{word}',\n",
    "                        \"begin_date\": begindate, \"end_date\": enddate, \n",
    "                        \"page\": page, \"api-key\": api_key}\n",
    "            \n",
    "            response = requests.get(base_url, params= nyt_params)\n",
    "            page_data = response.json()\n",
    "            time.sleep(14)\n",
    "\n",
    "            #After collecting all available data, subsequent pages retrieve\n",
    "            #empty results. For that reason, we can break the loop when pages \n",
    "            #are no longer useful. It also avoids making unnecessary and \n",
    "            #time-consuming requests\n",
    "        \n",
    "            if len(page_data[\"response\"][\"docs\"]) == 0:\n",
    "                break\n",
    "\n",
    "            year_data += page_data[\"response\"][\"docs\"]\n",
    "\n",
    "        articles[year] = year_data\n",
    "\n",
    "    #Export the dictionary to a JSON file to save it locally to avoid needing\n",
    "    #to make requests every time we work on the project. \n",
    "    with open(output_file_name, 'w') as json_file:\n",
    "        json.dump(articles, json_file, indent=4)"
   ]
  },
  {
   "cell_type": "code",
   "execution_count": 3,
   "metadata": {},
   "outputs": [],
   "source": [
    "#Call function to retrieve NYT articles related to anxiety and depression\n",
    "\n",
    "#collect_articles_NYT(\"anxiety\", \"anxiety_articles_NYT.json\")\n",
    "#collect_articles_NYT(\"depresion\", \"depression_articles_NYT.json\")"
   ]
  },
  {
   "cell_type": "markdown",
   "metadata": {},
   "source": [
    "1.2 Collection of The Guardian articles with the word \"anxiety\" or \"depression\" on the headline"
   ]
  },
  {
   "cell_type": "markdown",
   "metadata": {},
   "source": [
    "**Part I. Data Cleaning**"
   ]
  }
 ],
 "metadata": {
  "kernelspec": {
   "display_name": "psychkids",
   "language": "python",
   "name": "python3"
  },
  "language_info": {
   "codemirror_mode": {
    "name": "ipython",
    "version": 3
   },
   "file_extension": ".py",
   "mimetype": "text/x-python",
   "name": "python",
   "nbconvert_exporter": "python",
   "pygments_lexer": "ipython3",
   "version": "3.11.5"
  },
  "orig_nbformat": 4
 },
 "nbformat": 4,
 "nbformat_minor": 2
}
